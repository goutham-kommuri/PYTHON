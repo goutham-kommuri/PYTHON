{
  "nbformat": 4,
  "nbformat_minor": 0,
  "metadata": {
    "colab": {
      "provenance": [],
      "authorship_tag": "ABX9TyMW65zlzvePzi8HxItazEDy",
      "include_colab_link": true
    },
    "kernelspec": {
      "name": "python3",
      "display_name": "Python 3"
    },
    "language_info": {
      "name": "python"
    }
  },
  "cells": [
    {
      "cell_type": "markdown",
      "metadata": {
        "id": "view-in-github",
        "colab_type": "text"
      },
      "source": [
        "<a href=\"https://colab.research.google.com/github/goutham-kommuri/PYTHON/blob/main/Untitled6.ipynb\" target=\"_parent\"><img src=\"https://colab.research.google.com/assets/colab-badge.svg\" alt=\"Open In Colab\"/></a>"
      ]
    },
    {
      "cell_type": "code",
      "execution_count": null,
      "metadata": {
        "colab": {
          "base_uri": "https://localhost:8080/"
        },
        "id": "1pj74ySZ5GGB",
        "outputId": "4c694b0d-dcb0-4762-d2b2-29999bb125fc"
      },
      "outputs": [
        {
          "output_type": "stream",
          "name": "stdout",
          "text": [
            "RELLIM RELLIK\n"
          ]
        }
      ],
      "source": [
        "#Reverse a string\n",
        "a=\"KILLER MILLER\"\n",
        "s=a[::-1]\n",
        "print(s)"
      ]
    },
    {
      "cell_type": "code",
      "source": [
        "#Palindrome\n",
        "a=input(\"enter a string : \")\n",
        "temp=a[::-1]\n",
        "if a==temp:\n",
        "  print(\"the string is a palindrome\", )\n",
        "else:\n",
        "  print(\"the string is not a palindrome\")\n",
        "\n"
      ],
      "metadata": {
        "colab": {
          "base_uri": "https://localhost:8080/"
        },
        "id": "wFUHEITl5i5K",
        "outputId": "f52e072e-c76b-4c33-8267-655a30f80635"
      },
      "execution_count": null,
      "outputs": [
        {
          "output_type": "stream",
          "name": "stdout",
          "text": [
            "enter a string : lil\n",
            "the string is a palindrome\n"
          ]
        }
      ]
    },
    {
      "cell_type": "code",
      "source": [
        "#Conversion upper and lower\n",
        "string=input(\"enter the string : \")\n",
        "a=string.upper()\n",
        "b=string.lower()\n",
        "print(a)\n",
        "print(b)"
      ],
      "metadata": {
        "colab": {
          "base_uri": "https://localhost:8080/"
        },
        "id": "CxN-dvHV6vAl",
        "outputId": "de68fb69-cfa0-4adf-c86b-f7232ba2796f"
      },
      "execution_count": null,
      "outputs": [
        {
          "output_type": "stream",
          "name": "stdout",
          "text": [
            "enter the string : Royal challengers benguluru\n",
            "ROYAL CHALLENGERS BENGULURU\n",
            "royal challengers benguluru\n"
          ]
        }
      ]
    },
    {
      "cell_type": "code",
      "source": [
        "#Count vowels and consonants\n",
        "s=input(\"enter the string :\")\n",
        "cc=0\n",
        "vc=0\n",
        "for i in s:\n",
        "  if i=='a'or i=='A'or i=='e' or i=='E'or i=='i' or i=='I'or i=='O'or i=='o'or i=='u' or i=='U' :\n",
        "    vc+=1\n",
        "  else:\n",
        "    cc+=1\n",
        "print(\"vowels count is equals to \",vc)\n",
        "print(\"consonants count is equals to\",cc)"
      ],
      "metadata": {
        "colab": {
          "base_uri": "https://localhost:8080/"
        },
        "id": "0OGFAMjf7MPx",
        "outputId": "8b4fbbf7-c753-40cd-89e9-3e9f266360a7"
      },
      "execution_count": null,
      "outputs": [
        {
          "output_type": "stream",
          "name": "stdout",
          "text": [
            "enter the string :goutham\n",
            "vowels count is equals to  3\n",
            "consonants count is equals to 4\n"
          ]
        }
      ]
    },
    {
      "cell_type": "code",
      "source": [
        "#Remove all the white spaces in a string\n",
        "str=input(\"Enter the string : \")\n",
        "a=str.replace(' ','')\n",
        "print(a)"
      ],
      "metadata": {
        "colab": {
          "base_uri": "https://localhost:8080/"
        },
        "id": "1WcIwE3i-kD0",
        "outputId": "e5f17f33-08c0-4719-df51-c3cdb5dcc4eb"
      },
      "execution_count": null,
      "outputs": [
        {
          "output_type": "stream",
          "name": "stdout",
          "text": [
            "Enter the string : f a s t a n d    fur  i   ous\n",
            "fastandfurious\n"
          ]
        }
      ]
    },
    {
      "cell_type": "code",
      "source": [
        "#count the frequency of the letters in the string\n",
        "str=input(\"Enter the string = \")\n",
        "freq={}\n",
        "for i in str:\n",
        "  if i in freq:\n",
        "    freq[i]+=1\n",
        "  else:\n",
        "    freq[i]=1\n",
        "print(freq)"
      ],
      "metadata": {
        "colab": {
          "base_uri": "https://localhost:8080/"
        },
        "id": "rL9sasH6_Kof",
        "outputId": "1b346999-293d-4477-ef4a-ddc30c0c0128"
      },
      "execution_count": null,
      "outputs": [
        {
          "output_type": "stream",
          "name": "stdout",
          "text": [
            "Enter the string = Killer the miller is back\n",
            "{'K': 1, 'i': 3, 'l': 4, 'e': 3, 'r': 2, ' ': 4, 't': 1, 'h': 1, 'm': 1, 's': 1, 'b': 1, 'a': 1, 'c': 1, 'k': 1}\n"
          ]
        }
      ]
    },
    {
      "cell_type": "code",
      "source": [
        "#replace the hyphens\n",
        "str=input(\"Enter a string =\")\n",
        "a=str.replace('-','')\n",
        "print(a)"
      ],
      "metadata": {
        "id": "VpD-SO2Bd5IL",
        "colab": {
          "base_uri": "https://localhost:8080/",
          "height": 0
        },
        "outputId": "f2eb5e26-0fa6-4aa6-840e-cfb1b500e68e"
      },
      "execution_count": 4,
      "outputs": [
        {
          "output_type": "stream",
          "name": "stdout",
          "text": [
            "Enter a string =MILLER-KILLER-FILLER\n",
            "MILLERKILLERFILLER\n"
          ]
        }
      ]
    },
    {
      "cell_type": "code",
      "source": [
        "#anagrams\n",
        "n=input(\"Enter the input :\")\n",
        "m=input(\"enter the input :\")\n",
        "if sorted(n)==sorted(m):\n",
        "  print(\"the strings are anagrams\")\n",
        "else:\n",
        "  print(\"the strings are not anagrams\")"
      ],
      "metadata": {
        "colab": {
          "base_uri": "https://localhost:8080/",
          "height": 0
        },
        "id": "QnDEHzpPepVL",
        "outputId": "37f22ee8-e674-4dea-9733-f17a90fa3249"
      },
      "execution_count": 7,
      "outputs": [
        {
          "output_type": "stream",
          "name": "stdout",
          "text": [
            "Enter the input :listen\n",
            "enter the input :silent\n",
            "the strings are anagrams\n"
          ]
        }
      ]
    },
    {
      "cell_type": "code",
      "source": [
        "#first non repeating character\n",
        "n=\"mmersin\"\n",
        "freq={}\n",
        "for i in n:\n",
        "  if i in freq:\n",
        "    freq[i]+=1\n",
        "  else:\n",
        "    freq[i]=1\n",
        "for j in n:\n",
        "    if freq[j] == 1:\n",
        "        print(\"First non-repeating character is:\", j)\n",
        "        found = True\n",
        "        break\n",
        "\n",
        "if not found:\n",
        "    print(\"No non-repeating character found.\")"
      ],
      "metadata": {
        "colab": {
          "base_uri": "https://localhost:8080/",
          "height": 0
        },
        "id": "fB6Yn0F0iIz-",
        "outputId": "f8610a83-d818-43e6-a6da-3bcd473a2085"
      },
      "execution_count": 11,
      "outputs": [
        {
          "output_type": "stream",
          "name": "stdout",
          "text": [
            "First non-repeating character is: e\n"
          ]
        }
      ]
    },
    {
      "cell_type": "code",
      "source": [
        "str = '3june2025'\n",
        "freq = {}\n",
        "lis= []\n",
        "for i in str:\n",
        "    if i in freq:\n",
        "        freq[i] += 1\n",
        "    else:\n",
        "        freq[i] = 1\n",
        "digit=False\n",
        "for j in freq:\n",
        "    if j in '0123456789':\n",
        "        lis+=j\n",
        "        print(\"Yes, the string contains digits:\",lis)\n",
        "        digit=True\n",
        "\n",
        "if not digit:\n",
        "  print(\"No, the string does not contain any digits.\")\n"
      ],
      "metadata": {
        "colab": {
          "base_uri": "https://localhost:8080/",
          "height": 0
        },
        "id": "6NjtAIlLlV0i",
        "outputId": "a1878d36-6e32-4250-c83d-7ce7cf1fcd94"
      },
      "execution_count": 27,
      "outputs": [
        {
          "output_type": "stream",
          "name": "stdout",
          "text": [
            "Yes, the string contains digits: ['3']\n",
            "Yes, the string contains digits: ['3', '2']\n",
            "Yes, the string contains digits: ['3', '2', '0']\n",
            "Yes, the string contains digits: ['3', '2', '0', '5']\n"
          ]
        }
      ]
    },
    {
      "cell_type": "code",
      "source": [],
      "metadata": {
        "id": "nqUXfmpEp7o9"
      },
      "execution_count": null,
      "outputs": []
    }
  ]
}